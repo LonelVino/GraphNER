{
 "cells": [
  {
   "cell_type": "code",
   "execution_count": 2,
   "metadata": {},
   "outputs": [],
   "source": [
    "#coding=utf-8\n",
    "from main import *\n",
    "import numpy as np\n",
    "import pandas as pd\n",
    "import os\n",
    "import sys\n",
    "\n",
    "sys.path.append('/')"
   ]
  },
  {
   "cell_type": "code",
   "execution_count": 3,
   "metadata": {},
   "outputs": [],
   "source": [
    "from utils.train_helper import *"
   ]
  },
  {
   "cell_type": "code",
   "execution_count": 35,
   "metadata": {},
   "outputs": [
    {
     "name": "stdout",
     "output_type": "stream",
     "text": [
      "True\n",
      "Data setting loaded from file:  data/generated_data/Data_new_dataset.dsetCOMBINE\n",
      "<utils.data.Data object at 0x7f85705b6400>\n",
      "DATA SUMMARY START:\n",
      "     Dataset        name: Data\n",
      "     Tag          scheme: BIO\n",
      "     Max Sentence Length: 200\n",
      "     Char  alphabet size: 2560\n",
      "     Gaz   alphabet size: 10334\n",
      "     Label alphabet size: 22\n",
      "B-动作教学态度\n",
      "B-实体教学手段与方法\n",
      "I-动作教学内容与水平\n",
      "B-实体教学态度\n",
      "B-动作教学内容与水平\n",
      "O\n",
      "I-实体教学内容与水平\n",
      "B-动作其他\n",
      "B-实体教学效果\n",
      "I-动作其他\n",
      "I-动作教学态度\n",
      "I-动作教学手段与方法\n",
      "I-实体教学手段与方法\n",
      "I-动作教学效果\n",
      "I-实体教学态度\n",
      "B-实体其他\n",
      "I-实体其他\n",
      "B-实体教学内容与水平\n",
      "B-动作教学效果\n",
      "B-动作教学手段与方法\n",
      "I-实体教学效果\n",
      "</pad>\n",
      "     attr alphabet size: 0\n",
      "     Char embedding size: 50\n",
      "     Gaz embedding  size: 300\n",
      "     Number   normalized: True\n",
      "     Norm    char    emb: True\n",
      "     Norm     gaz    emb: True\n",
      "     Train instance number: 11647\n",
      "     Dev   instance number: 2000\n",
      "     Test  instance number: 2000\n",
      "     Train    cut   number: 0\n",
      "     Dev     cut    number: 0\n",
      "     Test    cut    number: 0\n",
      "DATA SUMMARY END.\n",
      "DATA SUMMARY START:\n",
      "     Dataset        name: Data\n",
      "     Tag          scheme: BIO\n",
      "     Max Sentence Length: 200\n",
      "     Char  alphabet size: 2560\n",
      "     Gaz   alphabet size: 10334\n",
      "     Label alphabet size: 22\n",
      "B-动作教学态度\n",
      "B-实体教学手段与方法\n",
      "I-动作教学内容与水平\n",
      "B-实体教学态度\n",
      "B-动作教学内容与水平\n",
      "O\n",
      "I-实体教学内容与水平\n",
      "B-动作其他\n",
      "B-实体教学效果\n",
      "I-动作其他\n",
      "I-动作教学态度\n",
      "I-动作教学手段与方法\n",
      "I-实体教学手段与方法\n",
      "I-动作教学效果\n",
      "I-实体教学态度\n",
      "B-实体其他\n",
      "I-实体其他\n",
      "B-实体教学内容与水平\n",
      "B-动作教学效果\n",
      "B-动作教学手段与方法\n",
      "I-实体教学效果\n",
      "</pad>\n",
      "     attr alphabet size: 0\n",
      "     Char embedding size: 50\n",
      "     Gaz embedding  size: 300\n",
      "     Number   normalized: True\n",
      "     Norm    char    emb: True\n",
      "     Norm     gaz    emb: True\n",
      "     Train instance number: 11647\n",
      "     Dev   instance number: 2000\n",
      "     Test  instance number: 2000\n",
      "     Train    cut   number: 0\n",
      "     Dev     cut    number: 0\n",
      "     Test    cut    number: 0\n",
      "DATA SUMMARY END.\n"
     ]
    }
   ],
   "source": [
    "data_stored_directory = 'data/generated_data/'\n",
    "dataset_name = 'Data'\n",
    "\n",
    "file = data_stored_directory + dataset_name + \"_new_dataset.dsetCOMBINE\"\n",
    "\n",
    "if os.path.exists(file):\n",
    "    data = load_data_setting(data_stored_directory, dataset_name)\n",
    "else:\n",
    "    data = Data()\n",
    "data.show_data_summary()"
   ]
  },
  {
   "cell_type": "markdown",
   "metadata": {},
   "source": [
    "## pyLTP"
   ]
  },
  {
   "cell_type": "code",
   "execution_count": 17,
   "metadata": {},
   "outputs": [],
   "source": [
    "import jieba\n",
    "from pyltp import Postagger, Parser"
   ]
  },
  {
   "cell_type": "code",
   "execution_count": 24,
   "metadata": {},
   "outputs": [],
   "source": [
    "gazs = list(jieba.cut(\"老师要是提供资料就好了\"))     # 使用精确模式对文本进行分词\n",
    "# Output: ['老师', '要是', '提供', '资料', '就', '好', '了']\n",
    "\n",
    "# Load the Postagger model and Parser model\n",
    "pos_model_path = 'model/ltp_data_v3.4.0/pos.model'\n",
    "postagger = Postagger(pos_model_path)   # part-of-speech tagging model\n",
    "par_model_path = 'model/ltp_data_v3.4.0/parser.model'\n",
    "parser = Parser(par_model_path)  # Dependency Parsing"
   ]
  },
  {
   "cell_type": "code",
   "execution_count": 32,
   "metadata": {},
   "outputs": [
    {
     "data": {
      "text/plain": [
       "(['n', 'c', 'v', 'n', 'd', 'a', 'u'],\n",
       " [(3, 'SBV'),\n",
       "  (3, 'ADV'),\n",
       "  (0, 'HED'),\n",
       "  (3, 'VOB'),\n",
       "  (6, 'ADV'),\n",
       "  (3, 'COO'),\n",
       "  (6, 'RAD')])"
      ]
     },
     "execution_count": 32,
     "metadata": {},
     "output_type": "execute_result"
    }
   ],
   "source": [
    "# Use Postagger model and Parser Model \n",
    "postags = postagger.postag(gazs)   # part-of-speech tagging\n",
    "arcs = parser.parse(gazs, postags)\n",
    "postags, arcs"
   ]
  },
  {
   "cell_type": "code",
   "execution_count": 33,
   "metadata": {},
   "outputs": [
    {
     "data": {
      "text/plain": [
       "['提供', '提供', 'Root', '提供', '好', '提供', '好']"
      ]
     },
     "execution_count": 33,
     "metadata": {},
     "output_type": "execute_result"
    }
   ],
   "source": [
    "rely_id = [arc[0] for arc in arcs] # 列表，每个词对应的词的id，从1开始，0表示root\n",
    "relation = [arc[1] for arc in arcs]\n",
    "heads = ['Root' if id == 0 else gazs[id-1] for id in rely_id]\n",
    "heads"
   ]
  },
  {
   "cell_type": "code",
   "execution_count": 34,
   "metadata": {},
   "outputs": [
    {
     "name": "stdout",
     "output_type": "stream",
     "text": [
      "SBV (老师, 提供)\n",
      "ADV (要是, 提供)\n",
      "HED (提供, Root)\n",
      "VOB (资料, 提供)\n",
      "ADV (就, 好)\n",
      "COO (好, 提供)\n",
      "RAD (了, 好)\n"
     ]
    }
   ],
   "source": [
    "for i in range(len(gazs)):\n",
    "    print(f'{relation[i]} ({gazs[i]}, {heads[i]})')"
   ]
  }
 ],
 "metadata": {
  "interpreter": {
   "hash": "31f2aee4e71d21fbe5cf8b01ff0e069b9275f58929596ceb00d14d90e3e16cd6"
  },
  "kernelspec": {
   "display_name": "Python 3.8.10 64-bit",
   "language": "python",
   "name": "python3"
  },
  "language_info": {
   "codemirror_mode": {
    "name": "ipython",
    "version": 3
   },
   "file_extension": ".py",
   "mimetype": "text/x-python",
   "name": "python",
   "nbconvert_exporter": "python",
   "pygments_lexer": "ipython3",
   "version": "3.8.10"
  },
  "orig_nbformat": 4
 },
 "nbformat": 4,
 "nbformat_minor": 2
}
